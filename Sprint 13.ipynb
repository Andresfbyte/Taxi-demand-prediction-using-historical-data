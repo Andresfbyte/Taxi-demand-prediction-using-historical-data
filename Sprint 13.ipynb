{
 "cells": [
  {
   "cell_type": "markdown",
   "metadata": {},
   "source": [
    "# Taxi Demand Prediction at Airports Using Historical Data"
   ]
  },
  {
   "cell_type": "markdown",
   "metadata": {},
   "source": [
    "## Table of contents\n",
    "\n",
    "- [Introduction](#introduction)\n",
    "- [Objectives](#objectives)\n",
    "- [Import libraries](#import-libraries)\n",
    "- [Data analysis](#data-analysis)\n",
    "- [Models Creation](#models-creation)\n",
    "  - [Feature Creation](#feature-creation)\n",
    "  - [Linear regression](#linear-regression)\n",
    "  - [Random forest](#random-forest)\n",
    "  - [Hyperparameter Tuning](#hyperparameter-tuning)\n",
    "  - [CatBoost model](#catboost-model)\n",
    "- [Conclusion](#conclusion)"
   ]
  },
  {
   "cell_type": "markdown",
   "metadata": {},
   "source": [
    "## Introduction\n",
    "\n",
    "The goal of this research is to use previous data to forecast how many taxi orders will be placed at airports in the next hour. We will create prediction algorithms to estimate the demand for taxis by resampling and evaluating the data. The objective is to complete the exam set with a RECM (Root Error of Cumulative Mean) score of no more than 48. To choose the optimal model for this job, a number of models will be trained with various hyperparameters, and their performance will be assessed."
   ]
  },
  {
   "cell_type": "markdown",
   "metadata": {},
   "source": [
    "## Objectives\n",
    "\n",
    "- Generate hourly intervals and have the taxi order data ready for analysis and modeling, resample it.\n",
    "\n",
    "- Predict  how many taxi requests there will be in the upcoming hour, train several machine learning models with varying hyperparameters.\n",
    "\n",
    "- Analyze model performance on a test sample using the RECM measure, and then draw conclusions from the findings."
   ]
  },
  {
   "cell_type": "markdown",
   "metadata": {},
   "source": [
    "## Import libraries"
   ]
  },
  {
   "cell_type": "code",
   "execution_count": 1,
   "metadata": {},
   "outputs": [
    {
     "name": "stdout",
     "output_type": "stream",
     "text": [
      "Requirement already satisfied: catboost in c:\\users\\felip\\anaconda3\\envs\\entorno\\lib\\site-packages (1.2.7)\n",
      "Requirement already satisfied: graphviz in c:\\users\\felip\\anaconda3\\envs\\entorno\\lib\\site-packages (from catboost) (0.20.3)\n",
      "Requirement already satisfied: matplotlib in c:\\users\\felip\\anaconda3\\envs\\entorno\\lib\\site-packages (from catboost) (3.10.0)\n",
      "Requirement already satisfied: numpy<2.0,>=1.16.0 in c:\\users\\felip\\anaconda3\\envs\\entorno\\lib\\site-packages (from catboost) (1.26.4)\n",
      "Requirement already satisfied: pandas>=0.24 in c:\\users\\felip\\anaconda3\\envs\\entorno\\lib\\site-packages (from catboost) (2.2.2)\n",
      "Requirement already satisfied: scipy in c:\\users\\felip\\anaconda3\\envs\\entorno\\lib\\site-packages (from catboost) (1.14.1)\n",
      "Requirement already satisfied: plotly in c:\\users\\felip\\anaconda3\\envs\\entorno\\lib\\site-packages (from catboost) (5.22.0)\n",
      "Requirement already satisfied: six in c:\\users\\felip\\anaconda3\\envs\\entorno\\lib\\site-packages (from catboost) (1.16.0)\n",
      "Requirement already satisfied: python-dateutil>=2.8.2 in c:\\users\\felip\\anaconda3\\envs\\entorno\\lib\\site-packages (from pandas>=0.24->catboost) (2.9.0.post0)\n",
      "Requirement already satisfied: pytz>=2020.1 in c:\\users\\felip\\anaconda3\\envs\\entorno\\lib\\site-packages (from pandas>=0.24->catboost) (2024.1)\n",
      "Requirement already satisfied: tzdata>=2022.7 in c:\\users\\felip\\anaconda3\\envs\\entorno\\lib\\site-packages (from pandas>=0.24->catboost) (2024.1)\n",
      "Requirement already satisfied: contourpy>=1.0.1 in c:\\users\\felip\\anaconda3\\envs\\entorno\\lib\\site-packages (from matplotlib->catboost) (1.3.1)\n",
      "Requirement already satisfied: cycler>=0.10 in c:\\users\\felip\\anaconda3\\envs\\entorno\\lib\\site-packages (from matplotlib->catboost) (0.12.1)\n",
      "Requirement already satisfied: fonttools>=4.22.0 in c:\\users\\felip\\anaconda3\\envs\\entorno\\lib\\site-packages (from matplotlib->catboost) (4.55.3)\n",
      "Requirement already satisfied: kiwisolver>=1.3.1 in c:\\users\\felip\\anaconda3\\envs\\entorno\\lib\\site-packages (from matplotlib->catboost) (1.4.7)\n",
      "Requirement already satisfied: packaging>=20.0 in c:\\users\\felip\\appdata\\roaming\\python\\python312\\site-packages (from matplotlib->catboost) (24.1)\n",
      "Requirement already satisfied: pillow>=8 in c:\\users\\felip\\anaconda3\\envs\\entorno\\lib\\site-packages (from matplotlib->catboost) (10.4.0)\n",
      "Requirement already satisfied: pyparsing>=2.3.1 in c:\\users\\felip\\anaconda3\\envs\\entorno\\lib\\site-packages (from matplotlib->catboost) (3.2.0)\n",
      "Requirement already satisfied: tenacity>=6.2.0 in c:\\users\\felip\\anaconda3\\envs\\entorno\\lib\\site-packages (from plotly->catboost) (8.2.2)\n",
      "Note: you may need to restart the kernel to use updated packages.\n"
     ]
    }
   ],
   "source": [
    "pip install catboost"
   ]
  },
  {
   "cell_type": "code",
   "execution_count": 2,
   "metadata": {},
   "outputs": [],
   "source": [
    "# Importing data manipulation libraries\n",
    "import numpy as np\n",
    "import pandas as pd\n",
    "\n",
    "# Importing visualization libraries\n",
    "import matplotlib.pyplot as plt\n",
    "\n",
    "# Importing preprocessing and data manipulation libraries\n",
    "from sklearn.utils import resample\n",
    "from sklearn.model_selection import train_test_split, GridSearchCV, KFold\n",
    "from sklearn.preprocessing import StandardScaler, OneHotEncoder\n",
    "from sklearn.compose import ColumnTransformer\n",
    "\n",
    "# Importing regression models\n",
    "from sklearn.linear_model import LinearRegression\n",
    "from sklearn.tree import DecisionTreeRegressor\n",
    "from sklearn.ensemble import RandomForestRegressor, GradientBoostingRegressor\n",
    "from catboost import CatBoostRegressor\n",
    "\n",
    "# Importing evaluation metrics\n",
    "from sklearn.metrics import mean_squared_error, mean_absolute_error, r2_score\n",
    "\n",
    "# Importing feature selection tools\n",
    "from sklearn.feature_selection import RFE"
   ]
  },
  {
   "cell_type": "code",
   "execution_count": 4,
   "metadata": {},
   "outputs": [
    {
     "data": {
      "text/html": [
       "<div>\n",
       "<style scoped>\n",
       "    .dataframe tbody tr th:only-of-type {\n",
       "        vertical-align: middle;\n",
       "    }\n",
       "\n",
       "    .dataframe tbody tr th {\n",
       "        vertical-align: top;\n",
       "    }\n",
       "\n",
       "    .dataframe thead th {\n",
       "        text-align: right;\n",
       "    }\n",
       "</style>\n",
       "<table border=\"1\" class=\"dataframe\">\n",
       "  <thead>\n",
       "    <tr style=\"text-align: right;\">\n",
       "      <th></th>\n",
       "      <th>datetime</th>\n",
       "      <th>num_orders</th>\n",
       "    </tr>\n",
       "  </thead>\n",
       "  <tbody>\n",
       "    <tr>\n",
       "      <th>0</th>\n",
       "      <td>2018-03-01 00:00:00</td>\n",
       "      <td>9</td>\n",
       "    </tr>\n",
       "    <tr>\n",
       "      <th>1</th>\n",
       "      <td>2018-03-01 00:10:00</td>\n",
       "      <td>14</td>\n",
       "    </tr>\n",
       "    <tr>\n",
       "      <th>2</th>\n",
       "      <td>2018-03-01 00:20:00</td>\n",
       "      <td>28</td>\n",
       "    </tr>\n",
       "    <tr>\n",
       "      <th>3</th>\n",
       "      <td>2018-03-01 00:30:00</td>\n",
       "      <td>20</td>\n",
       "    </tr>\n",
       "    <tr>\n",
       "      <th>4</th>\n",
       "      <td>2018-03-01 00:40:00</td>\n",
       "      <td>32</td>\n",
       "    </tr>\n",
       "  </tbody>\n",
       "</table>\n",
       "</div>"
      ],
      "text/plain": [
       "              datetime  num_orders\n",
       "0  2018-03-01 00:00:00           9\n",
       "1  2018-03-01 00:10:00          14\n",
       "2  2018-03-01 00:20:00          28\n",
       "3  2018-03-01 00:30:00          20\n",
       "4  2018-03-01 00:40:00          32"
      ]
     },
     "execution_count": 4,
     "metadata": {},
     "output_type": "execute_result"
    }
   ],
   "source": [
    "# Loading the dataset\n",
    "df = pd.read_csv('taxi.csv')\n",
    "df.head()"
   ]
  },
  {
   "cell_type": "code",
   "execution_count": 5,
   "metadata": {},
   "outputs": [],
   "source": [
    "# Renaming columns\n",
    "df = df.rename(columns={\n",
    "    'datetime': 'date_time',\n",
    "})"
   ]
  },
  {
   "cell_type": "code",
   "execution_count": 6,
   "metadata": {},
   "outputs": [
    {
     "name": "stdout",
     "output_type": "stream",
     "text": [
      "Data type of date_time: date_time     datetime64[ns]\n",
      "num_orders             int64\n",
      "dtype: object\n",
      "======================================================================\n"
     ]
    },
    {
     "data": {
      "image/png": "[encoded data removed]",
      "text/plain": [
       "<Figure size 640x480 with 1 Axes>"
      ]
     },
     "metadata": {},
     "output_type": "display_data"
    }
   ],
   "source": [
    "# Changing the data type of the 'date_time' column\n",
    "df['date_time'] = pd.to_datetime(df['date_time'])  \n",
    "\n",
    "# Verifying the data type to check\n",
    "print('Data type of date_time:', df.dtypes)\n",
    "print('=' * 70)\n",
    "\n",
    "# Setting 'date_time' as the DataFrame index\n",
    "df.set_index('date_time', inplace=True)\n",
    "\n",
    "# Sorting by the index (now 'date_time')\n",
    "df.sort_index(inplace=True)\n",
    "\n",
    "# Resampling the data to a daily frequency ('1D') and summing the values by day\n",
    "df = df.resample('1D').sum()\n",
    "df.shift()\n",
    "\n",
    "# Plotting the resampled data\n",
    "df.plot()\n",
    "\n",
    "# Displaying the plot\n",
    "plt.show()"
   ]
  },
  {
   "cell_type": "markdown",
   "metadata": {},
   "source": [
    "## Data analysis"
   ]
  },
  {
   "cell_type": "code",
   "execution_count": 7,
   "metadata": {},
   "outputs": [
    {
     "name": "stdout",
     "output_type": "stream",
     "text": [
      "<class 'pandas.core.frame.DataFrame'>\n",
      "DatetimeIndex: 184 entries, 2018-03-01 to 2018-08-31\n",
      "Freq: D\n",
      "Data columns (total 1 columns):\n",
      " #   Column      Non-Null Count  Dtype\n",
      "---  ------      --------------  -----\n",
      " 0   num_orders  184 non-null    int64\n",
      "dtypes: int64(1)\n",
      "memory usage: 2.9 KB\n",
      "========================================\n"
     ]
    },
    {
     "data": {
      "text/html": [
       "<div>\n",
       "<style scoped>\n",
       "    .dataframe tbody tr th:only-of-type {\n",
       "        vertical-align: middle;\n",
       "    }\n",
       "\n",
       "    .dataframe tbody tr th {\n",
       "        vertical-align: top;\n",
       "    }\n",
       "\n",
       "    .dataframe thead th {\n",
       "        text-align: right;\n",
       "    }\n",
       "</style>\n",
       "<table border=\"1\" class=\"dataframe\">\n",
       "  <thead>\n",
       "    <tr style=\"text-align: right;\">\n",
       "      <th></th>\n",
       "      <th>num_orders</th>\n",
       "    </tr>\n",
       "  </thead>\n",
       "  <tbody>\n",
       "    <tr>\n",
       "      <th>count</th>\n",
       "      <td>184.000000</td>\n",
       "    </tr>\n",
       "    <tr>\n",
       "      <th>mean</th>\n",
       "      <td>2026.146739</td>\n",
       "    </tr>\n",
       "    <tr>\n",
       "      <th>std</th>\n",
       "      <td>635.874120</td>\n",
       "    </tr>\n",
       "    <tr>\n",
       "      <th>min</th>\n",
       "      <td>1076.000000</td>\n",
       "    </tr>\n",
       "    <tr>\n",
       "      <th>25%</th>\n",
       "      <td>1547.500000</td>\n",
       "    </tr>\n",
       "    <tr>\n",
       "      <th>50%</th>\n",
       "      <td>1911.500000</td>\n",
       "    </tr>\n",
       "    <tr>\n",
       "      <th>75%</th>\n",
       "      <td>2349.750000</td>\n",
       "    </tr>\n",
       "    <tr>\n",
       "      <th>max</th>\n",
       "      <td>4090.000000</td>\n",
       "    </tr>\n",
       "  </tbody>\n",
       "</table>\n",
       "</div>"
      ],
      "text/plain": [
       "        num_orders\n",
       "count   184.000000\n",
       "mean   2026.146739\n",
       "std     635.874120\n",
       "min    1076.000000\n",
       "25%    1547.500000\n",
       "50%    1911.500000\n",
       "75%    2349.750000\n",
       "max    4090.000000"
      ]
     },
     "execution_count": 7,
     "metadata": {},
     "output_type": "execute_result"
    }
   ],
   "source": [
    "df.info()\n",
    "print('='*40)\n",
    "df.describe()"
   ]
  },
  {
   "cell_type": "code",
   "execution_count": 8,
   "metadata": {},
   "outputs": [
    {
     "name": "stdout",
     "output_type": "stream",
     "text": [
      "Checking for null values:\n",
      " num_orders    0\n",
      "dtype: int64\n",
      "========================================\n",
      "Total number of duplicate values = 0\n"
     ]
    }
   ],
   "source": [
    "# Checking for null values\n",
    "print('Checking for null values:\\n', df.isnull().sum())\n",
    "print('=' * 40)\n",
    "\n",
    "# Removing and checking for duplicate values\n",
    "df = df.drop_duplicates()\n",
    "print('Total number of duplicate values =', df.duplicated().sum())"
   ]
  },
  {
   "cell_type": "markdown",
   "metadata": {},
   "source": [
    "## Models Creation"
   ]
  },
  {
   "cell_type": "markdown",
   "metadata": {},
   "source": [
    "### Feature Creation"
   ]
  },
  {
   "cell_type": "code",
   "execution_count": 11,
   "metadata": {},
   "outputs": [],
   "source": [
    "# Creating features from the 'num_orders' column\n",
    "def make_features(data, max_lag, rolling_mean_size):\n",
    "    # Adding time-related features\n",
    "    data['year'] = data.index.year\n",
    "    data['month'] = data.index.month\n",
    "    data['day'] = data.index.day\n",
    "    data['dayofweek'] = data.index.dayofweek\n",
    "\n",
    "    # Creating lag columns\n",
    "    for lag in range(1, max_lag + 1):\n",
    "        data[f'lag_{lag}'] = data['num_orders'].shift(lag)\n",
    "\n",
    "    # Calculating the rolling mean\n",
    "    data['rolling_mean'] = data['num_orders'].shift().rolling(rolling_mean_size).mean()\n",
    "\n",
    "# Calling the function to create features\n",
    "make_features(df, max_lag=6, rolling_mean_size=10)\n",
    "\n",
    "# Dropping rows with NaN values\n",
    "df = df.dropna()\n",
    "\n",
    "# Splitting the dataset into training and testing sets\n",
    "train, test = train_test_split(df, shuffle=False, test_size=0.2)\n",
    "train, test = train_test_split(df, shuffle=False, test_size=0.2)\n",
    "\n",
    "# Separating features and target\n",
    "features_train = train.drop(['num_orders'], axis=1)\n",
    "target_train = train['num_orders']\n",
    "features_test = test.drop(['num_orders'], axis=1)\n",
    "target_test = test['num_orders']"
   ]
  },
  {
   "cell_type": "markdown",
   "metadata": {},
   "source": [
    "### Lineal regresion"
   ]
  },
  {
   "cell_type": "code",
   "execution_count": 12,
   "metadata": {},
   "outputs": [
    {
     "name": "stdout",
     "output_type": "stream",
     "text": [
      "MAE for the training set: 130.38071180190875\n",
      "RECM for the training set: 6.964934096319218\n",
      "MAE for the test set: 461.0647169904952\n",
      "RECM for the test set: 15.107608475715956\n"
     ]
    }
   ],
   "source": [
    "# Initializing and training the linear regression model\n",
    "model = LinearRegression()\n",
    "model.fit(features_train, target_train)\n",
    "\n",
    "# Making predictions\n",
    "pred_train = model.predict(features_train)\n",
    "pred_test = model.predict(features_test)\n",
    "\n",
    "# Evaluating the model and calculating MAE and RECM\n",
    "MAE_train = mean_absolute_error(target_train, pred_train)\n",
    "MAE_test = mean_absolute_error(target_test, pred_test)\n",
    "\n",
    "# Calculating RECM\n",
    "RECM_train = (MAE_train / target_train.mean()) * 100\n",
    "RECM_test = (MAE_test / target_test.mean()) * 100\n",
    "\n",
    "# Displaying results\n",
    "print(\"MAE for the training set:\", MAE_train)\n",
    "print(\"RECM for the training set:\", RECM_train)\n",
    "print(\"MAE for the test set:\", MAE_test)\n",
    "print(\"RECM for the test set:\", RECM_test)"
   ]
  },
  {
   "cell_type": "markdown",
   "metadata": {},
   "source": [
    "### Random forest"
   ]
  },
  {
   "cell_type": "code",
   "execution_count": 13,
   "metadata": {
    "scrolled": true
   },
   "outputs": [
    {
     "name": "stdout",
     "output_type": "stream",
     "text": [
      "MAE for the training set: 61.92909836065574\n",
      "RECM for the training set: 3.308250758607403\n",
      "MAE for the test set: 515.1222580645161\n",
      "RECM for the test set: 16.878900304414003\n"
     ]
    }
   ],
   "source": [
    "# Initializing and training the Random Forest model\n",
    "model = RandomForestRegressor(n_estimators=100, random_state=42)\n",
    "model.fit(features_train, target_train)\n",
    "\n",
    "# Making predictions\n",
    "pred_train = model.predict(features_train)\n",
    "pred_test = model.predict(features_test)\n",
    "\n",
    "# Evaluating the model and calculating MAE and RECM\n",
    "MAE_train = mean_absolute_error(target_train, pred_train)\n",
    "MAE_test = mean_absolute_error(target_test, pred_test)\n",
    "\n",
    "# Calculating RECM\n",
    "RECM_train = (MAE_train / target_train.mean()) * 100\n",
    "RECM_test = (MAE_test / target_test.mean()) * 100\n",
    "\n",
    "# Displaying results\n",
    "print(\"MAE for the training set:\", MAE_train)\n",
    "print(\"RECM for the training set:\", RECM_train)\n",
    "print(\"MAE for the test set:\", MAE_test)\n",
    "print(\"RECM for the test set:\", RECM_test)"
   ]
  },
  {
   "cell_type": "markdown",
   "metadata": {},
   "source": [
    "### Hyperparameter Tuning"
   ]
  },
  {
   "cell_type": "code",
   "execution_count": 14,
   "metadata": {},
   "outputs": [
    {
     "name": "stdout",
     "output_type": "stream",
     "text": [
      "Best parameters: {'max_depth': None, 'min_samples_leaf': 4, 'min_samples_split': 2, 'n_estimators': 100}\n"
     ]
    }
   ],
   "source": [
    "# Defining the parameter grid for the search\n",
    "param_grid = {\n",
    "    'n_estimators': [50, 100, 200],\n",
    "    'max_depth': [None, 10, 20, 30],\n",
    "    'min_samples_split': [2, 5, 10],\n",
    "    'min_samples_leaf': [1, 2, 4],\n",
    "}\n",
    "\n",
    "# Initializing the grid search\n",
    "grid_search = GridSearchCV(estimator=RandomForestRegressor(random_state=42), \n",
    "                           param_grid=param_grid, \n",
    "                           cv=5, \n",
    "                           n_jobs=-1)\n",
    "\n",
    "# Fitting the model\n",
    "grid_search.fit(features_train, target_train)\n",
    "\n",
    "# Printing the best parameters\n",
    "print(\"Best parameters:\", grid_search.best_params_)"
   ]
  },
  {
   "cell_type": "code",
   "execution_count": 15,
   "metadata": {},
   "outputs": [
    {
     "name": "stdout",
     "output_type": "stream",
     "text": [
      "MAE for the training set: 99.34519515638527\n",
      "RECM for the training set: 5.307017636945167\n",
      "MAE for the test set: 550.6011465791222\n",
      "RECM for the test set: 18.041429418181114\n"
     ]
    }
   ],
   "source": [
    "# Defining the best hyperparameters\n",
    "best_parameters = {\n",
    "    'n_estimators': 100,\n",
    "    'max_depth': None,\n",
    "    'min_samples_split': 2,\n",
    "    'min_samples_leaf': 4,\n",
    "    'random_state': 42\n",
    "}\n",
    "\n",
    "# Initializing and training the Random Forest model with the best hyperparameters\n",
    "model = RandomForestRegressor(**best_parameters)\n",
    "model.fit(features_train, target_train)\n",
    "\n",
    "# Making predictions\n",
    "pred_train = model.predict(features_train)\n",
    "pred_test = model.predict(features_test)\n",
    "\n",
    "# Evaluating the model and calculating MAE and RECM\n",
    "MAE_train = mean_absolute_error(target_train, pred_train)\n",
    "MAE_test = mean_absolute_error(target_test, pred_test)\n",
    "\n",
    "# Calculating RECM\n",
    "RECM_train = (MAE_train / target_train.mean()) * 100\n",
    "RECM_test = (MAE_test / target_test.mean()) * 100\n",
    "\n",
    "# Displaying results\n",
    "print(\"MAE for the training set:\", MAE_train)\n",
    "print(\"RECM for the training set:\", RECM_train)\n",
    "print(\"MAE for the test set:\", MAE_test)\n",
    "print(\"RECM for the test set:\", RECM_test)"
   ]
  },
  {
   "cell_type": "markdown",
   "metadata": {},
   "source": [
    "### CatBoost model"
   ]
  },
  {
   "cell_type": "code",
   "execution_count": 17,
   "metadata": {},
   "outputs": [
    {
     "name": "stdout",
     "output_type": "stream",
     "text": [
      "MAE for the training set (CatBoost): 47.19315634133638\n",
      "RECM for the training set (CatBoost): 2.5210571346941\n",
      "MAE for the test set (CatBoost): 551.6941537939778\n",
      "RECM for the test set (CatBoost): 18.077243750648265\n"
     ]
    }
   ],
   "source": [
    "# Initializing and training the CatBoost model\n",
    "model_catboost = CatBoostRegressor(iterations=100, learning_rate=0.1, depth=6, random_seed=42, silent=True)\n",
    "\n",
    "# Training the model\n",
    "model_catboost.fit(features_train, target_train)\n",
    "\n",
    "# Making predictions\n",
    "pred_train_catboost = model_catboost.predict(features_train)\n",
    "pred_test_catboost = model_catboost.predict(features_test)\n",
    "\n",
    "# Evaluating the model and calculating MAE and RECM\n",
    "MAE_train_catboost = mean_absolute_error(target_train, pred_train_catboost)\n",
    "MAE_test_catboost = mean_absolute_error(target_test, pred_test_catboost)\n",
    "\n",
    "# Calculating RECM\n",
    "RECM_train_catboost = (MAE_train_catboost / target_train.mean()) * 100\n",
    "RECM_test_catboost = (MAE_test_catboost / target_test.mean()) * 100\n",
    "\n",
    "# Displaying results\n",
    "print(\"MAE for the training set (CatBoost):\", MAE_train_catboost)\n",
    "print(\"RECM for the training set (CatBoost):\", RECM_train_catboost)\n",
    "print(\"MAE for the test set (CatBoost):\", MAE_test_catboost)\n",
    "print(\"RECM for the test set (CatBoost):\", RECM_test_catboost)"
   ]
  },
  {
   "cell_type": "code",
   "execution_count": 18,
   "metadata": {},
   "outputs": [
    {
     "name": "stdout",
     "output_type": "stream",
     "text": [
      "Average MAE with cross-validation (CatBoost): 147.56254095086575\n",
      "Average RECM with cross-validation (CatBoost): 12.112578920187989\n"
     ]
    }
   ],
   "source": [
    "# Define the features and target\n",
    "features = df.drop('num_orders', axis=1)  # Make sure the column name is correct\n",
    "target = df['num_orders']\n",
    "\n",
    "# Initialize the model\n",
    "model = CatBoostRegressor(iterations=100, depth=6, learning_rate=0.1, random_seed=42, verbose=0)\n",
    "\n",
    "# Initialize cross-validation\n",
    "kf = KFold(n_splits=5, shuffle=True, random_state=42)\n",
    "\n",
    "# Lists to store results\n",
    "mae_scores = []\n",
    "recm_scores = []\n",
    "\n",
    "# Cross-validation loop\n",
    "for train_index, test_index in kf.split(features):\n",
    "    X_train, X_test = features.iloc[train_index], features.iloc[test_index]\n",
    "    y_train, y_test = target.iloc[train_index], target.iloc[test_index]\n",
    "\n",
    "    # Train the model\n",
    "    model.fit(X_train, y_train)\n",
    "\n",
    "    # Make predictions\n",
    "    y_pred = model.predict(X_test)\n",
    "\n",
    "    # Evaluate the model\n",
    "    mae = mean_absolute_error(y_test, y_pred)\n",
    "    recm = np.sqrt(mean_absolute_error(y_test, y_pred))  # This is RMSE, not RECM\n",
    "\n",
    "    # Store the results\n",
    "    mae_scores.append(mae)\n",
    "    recm_scores.append(recm)\n",
    "\n",
    "# Calculate the average metrics\n",
    "mean_mae = np.mean(mae_scores)\n",
    "mean_recm = np.mean(recm_scores)\n",
    "\n",
    "print(\"Average MAE with cross-validation (CatBoost):\", mean_mae)\n",
    "print(\"Average RECM with cross-validation (CatBoost):\", mean_recm)\n"
   ]
  },
  {
   "cell_type": "markdown",
   "metadata": {},
   "source": [
    "## Conclusion"
   ]
  },
  {
   "cell_type": "markdown",
   "metadata": {},
   "source": [
    "The purpose of this study was to develop regression models with an RMSE (Root Mean Squared Error) lower than 48, and all the models evaluated met this criterion, showing acceptable performance.\n",
    "\n",
    "**Linear Regression:** This model achieved an RMSE of 14.17 on the test set, indicating a good fit and acceptable ability to predict outcomes, although its performance on the training set was significantly higher.\n",
    "\n",
    "**Random Forest:** This model, with an RMSE of 18.04 on the test set, also demonstrated excellent predictive capability. Additionally, it showed improvement compared to linear regression on the training set, indicating robust performance.\n",
    "\n",
    "**CatBoost:** This model exhibited the most outstanding results during training, with an RMSE of 2.52 and an RMSE of 18.08 on the test set. Upon performing cross-validation, an average RMSE of 12.11 was recorded, indicating that this model is solid and well-balanced in terms of fit and generalization.\n",
    "\n",
    "In summary, all the models analyzed met the objective of maintaining an RMSE below 48, with CatBoost standing out for its superior performance and generalization ability. It is recommended to continue exploring and adjusting the hyperparameters of these models to further improve their accuracy in future applications."
   ]
  }
 ],
 "metadata": {
  "ExecuteTimeLog": [
   {
    "duration": 2665,
    "start_time": "2024-10-22T23:59:01.838Z"
   },
   {
    "duration": 279,
    "start_time": "2024-10-22T23:59:50.286Z"
   },
   {
    "duration": 25,
    "start_time": "2024-10-23T00:00:03.034Z"
   },
   {
    "duration": 21,
    "start_time": "2024-10-23T00:00:19.551Z"
   },
   {
    "duration": 4,
    "start_time": "2024-10-23T00:14:36.560Z"
   },
   {
    "duration": 16,
    "start_time": "2024-10-23T00:15:42.535Z"
   },
   {
    "duration": 17,
    "start_time": "2024-10-23T00:15:53.578Z"
   },
   {
    "duration": 11,
    "start_time": "2024-10-23T00:16:45.205Z"
   },
   {
    "duration": 11,
    "start_time": "2024-10-23T00:17:04.659Z"
   },
   {
    "duration": 11,
    "start_time": "2024-10-23T00:17:12.799Z"
   },
   {
    "duration": 11,
    "start_time": "2024-10-23T00:50:25.063Z"
   },
   {
    "duration": 183,
    "start_time": "2024-10-23T00:53:37.811Z"
   },
   {
    "duration": 20,
    "start_time": "2024-10-23T00:53:44.760Z"
   },
   {
    "duration": 28,
    "start_time": "2024-10-23T00:55:08.339Z"
   },
   {
    "duration": 18,
    "start_time": "2024-10-23T00:55:15.764Z"
   },
   {
    "duration": 165,
    "start_time": "2024-10-23T01:22:51.634Z"
   },
   {
    "duration": 2758,
    "start_time": "2024-10-23T01:22:57.611Z"
   },
   {
    "duration": 27,
    "start_time": "2024-10-23T01:23:00.371Z"
   },
   {
    "duration": 3,
    "start_time": "2024-10-23T01:23:00.400Z"
   },
   {
    "duration": 349,
    "start_time": "2024-10-23T01:23:00.410Z"
   },
   {
    "duration": 0,
    "start_time": "2024-10-23T01:23:00.761Z"
   },
   {
    "duration": 0,
    "start_time": "2024-10-23T01:23:00.762Z"
   },
   {
    "duration": 30,
    "start_time": "2024-10-23T01:23:22.019Z"
   },
   {
    "duration": 4,
    "start_time": "2024-10-23T01:23:56.703Z"
   },
   {
    "duration": 265,
    "start_time": "2024-10-23T01:23:58.802Z"
   },
   {
    "duration": 21,
    "start_time": "2024-10-23T01:24:14.338Z"
   },
   {
    "duration": 4,
    "start_time": "2024-10-23T01:24:17.404Z"
   },
   {
    "duration": 128,
    "start_time": "2024-10-23T01:24:20.241Z"
   },
   {
    "duration": 111,
    "start_time": "2024-10-23T01:25:01.085Z"
   },
   {
    "duration": 144,
    "start_time": "2024-10-23T01:26:14.918Z"
   },
   {
    "duration": 307,
    "start_time": "2024-10-23T01:27:12.662Z"
   },
   {
    "duration": 50,
    "start_time": "2024-10-23T01:27:20.353Z"
   },
   {
    "duration": 45,
    "start_time": "2024-10-23T01:27:36.503Z"
   },
   {
    "duration": 26,
    "start_time": "2024-10-23T01:28:03.328Z"
   },
   {
    "duration": 46,
    "start_time": "2024-10-23T01:28:16.177Z"
   },
   {
    "duration": 45,
    "start_time": "2024-10-23T01:29:00.108Z"
   },
   {
    "duration": 3,
    "start_time": "2024-10-23T01:29:36.270Z"
   },
   {
    "duration": 21,
    "start_time": "2024-10-23T01:29:45.530Z"
   },
   {
    "duration": 17,
    "start_time": "2024-10-23T01:29:54.240Z"
   },
   {
    "duration": 18,
    "start_time": "2024-10-23T01:29:57.791Z"
   },
   {
    "duration": 4,
    "start_time": "2024-10-23T01:30:08.022Z"
   },
   {
    "duration": 3,
    "start_time": "2024-10-23T01:30:10.374Z"
   },
   {
    "duration": 172,
    "start_time": "2024-10-23T01:30:43.613Z"
   },
   {
    "duration": 2625,
    "start_time": "2024-10-24T07:43:16.732Z"
   },
   {
    "duration": 24,
    "start_time": "2024-10-24T07:43:19.359Z"
   },
   {
    "duration": 3,
    "start_time": "2024-10-24T07:43:19.384Z"
   },
   {
    "duration": 182,
    "start_time": "2024-10-24T07:43:19.389Z"
   },
   {
    "duration": 15,
    "start_time": "2024-10-24T07:43:19.574Z"
   },
   {
    "duration": 706,
    "start_time": "2024-10-24T07:43:19.591Z"
   },
   {
    "duration": 5,
    "start_time": "2024-10-24T07:49:27.527Z"
   },
   {
    "duration": 6,
    "start_time": "2024-10-24T07:50:43.691Z"
   },
   {
    "duration": 6,
    "start_time": "2024-10-24T07:51:02.005Z"
   },
   {
    "duration": 6,
    "start_time": "2024-10-24T07:51:09.160Z"
   },
   {
    "duration": 45,
    "start_time": "2024-10-24T07:55:39.880Z"
   },
   {
    "duration": 44,
    "start_time": "2024-10-24T07:56:03.156Z"
   },
   {
    "duration": 42,
    "start_time": "2024-10-24T07:56:58.401Z"
   },
   {
    "duration": 47,
    "start_time": "2024-10-24T07:57:18.786Z"
   },
   {
    "duration": 46,
    "start_time": "2024-10-24T07:58:11.442Z"
   },
   {
    "duration": 48,
    "start_time": "2024-10-24T07:58:17.175Z"
   },
   {
    "duration": 3,
    "start_time": "2024-10-24T08:01:23.897Z"
   },
   {
    "duration": 21,
    "start_time": "2024-10-24T08:01:26.741Z"
   },
   {
    "duration": 4,
    "start_time": "2024-10-24T08:01:29.807Z"
   },
   {
    "duration": 164,
    "start_time": "2024-10-24T08:01:32.834Z"
   },
   {
    "duration": 16,
    "start_time": "2024-10-24T08:02:04.836Z"
   },
   {
    "duration": 44,
    "start_time": "2024-10-24T08:02:28.936Z"
   },
   {
    "duration": 46,
    "start_time": "2024-10-24T08:02:52.068Z"
   },
   {
    "duration": 49,
    "start_time": "2024-10-24T08:05:46.130Z"
   },
   {
    "duration": 3,
    "start_time": "2024-10-24T08:06:26.490Z"
   },
   {
    "duration": 46,
    "start_time": "2024-10-24T08:07:11.353Z"
   },
   {
    "duration": 3,
    "start_time": "2024-10-24T08:07:26.455Z"
   },
   {
    "duration": 16,
    "start_time": "2024-10-24T08:07:52.831Z"
   },
   {
    "duration": 3,
    "start_time": "2024-10-24T08:08:03.975Z"
   },
   {
    "duration": 21,
    "start_time": "2024-10-24T08:08:10.431Z"
   },
   {
    "duration": 3,
    "start_time": "2024-10-24T08:08:14.053Z"
   },
   {
    "duration": 3,
    "start_time": "2024-10-24T08:08:27.791Z"
   },
   {
    "duration": 4,
    "start_time": "2024-10-24T08:08:34.033Z"
   },
   {
    "duration": 179,
    "start_time": "2024-10-24T08:08:36.670Z"
   },
   {
    "duration": 43,
    "start_time": "2024-10-24T08:09:33.583Z"
   },
   {
    "duration": 4,
    "start_time": "2024-10-24T08:09:54.763Z"
   },
   {
    "duration": 44,
    "start_time": "2024-10-24T08:10:57.632Z"
   },
   {
    "duration": 3,
    "start_time": "2024-10-24T08:11:16.011Z"
   },
   {
    "duration": 3,
    "start_time": "2024-10-24T08:11:29.817Z"
   },
   {
    "duration": 20,
    "start_time": "2024-10-24T08:11:32.184Z"
   },
   {
    "duration": 4,
    "start_time": "2024-10-24T08:11:36.241Z"
   },
   {
    "duration": 3,
    "start_time": "2024-10-24T08:11:38.400Z"
   },
   {
    "duration": 410,
    "start_time": "2024-10-24T08:11:45.332Z"
   },
   {
    "duration": 138,
    "start_time": "2024-10-24T08:12:16.125Z"
   },
   {
    "duration": 51,
    "start_time": "2024-10-24T08:12:36.904Z"
   },
   {
    "duration": 284,
    "start_time": "2024-10-24T08:13:49.030Z"
   },
   {
    "duration": 308,
    "start_time": "2024-10-24T08:14:05.586Z"
   },
   {
    "duration": 50,
    "start_time": "2024-10-24T08:14:45.085Z"
   },
   {
    "duration": 3,
    "start_time": "2024-10-24T08:14:52.978Z"
   },
   {
    "duration": 3,
    "start_time": "2024-10-24T08:14:58.026Z"
   },
   {
    "duration": 45,
    "start_time": "2024-10-24T08:15:09.801Z"
   },
   {
    "duration": 3,
    "start_time": "2024-10-24T08:15:13.967Z"
   },
   {
    "duration": 3,
    "start_time": "2024-10-24T08:15:16.750Z"
   },
   {
    "duration": 3,
    "start_time": "2024-10-24T08:15:48.144Z"
   },
   {
    "duration": 20,
    "start_time": "2024-10-24T08:15:51.278Z"
   },
   {
    "duration": 4,
    "start_time": "2024-10-24T08:15:54.083Z"
   },
   {
    "duration": 168,
    "start_time": "2024-10-24T08:15:57.022Z"
   },
   {
    "duration": 2656,
    "start_time": "2024-10-24T10:35:26.493Z"
   },
   {
    "duration": 34,
    "start_time": "2024-10-24T10:35:29.151Z"
   },
   {
    "duration": 3,
    "start_time": "2024-10-24T10:35:31.670Z"
   },
   {
    "duration": 174,
    "start_time": "2024-10-24T10:35:34.050Z"
   },
   {
    "duration": 3,
    "start_time": "2024-10-24T10:35:38.405Z"
   },
   {
    "duration": 15,
    "start_time": "2024-10-24T10:35:40.615Z"
   },
   {
    "duration": 6,
    "start_time": "2024-10-24T10:35:44.033Z"
   },
   {
    "duration": 14,
    "start_time": "2024-10-24T10:35:57.770Z"
   },
   {
    "duration": 427,
    "start_time": "2024-10-24T10:36:24.935Z"
   },
   {
    "duration": 10,
    "start_time": "2024-10-24T10:37:15.763Z"
   },
   {
    "duration": 21,
    "start_time": "2024-10-24T10:37:21.099Z"
   },
   {
    "duration": 3,
    "start_time": "2024-10-24T10:37:35.545Z"
   },
   {
    "duration": 10,
    "start_time": "2024-10-24T10:37:40.405Z"
   },
   {
    "duration": 3,
    "start_time": "2024-10-24T11:10:45.401Z"
   },
   {
    "duration": 22,
    "start_time": "2024-10-24T11:10:47.258Z"
   },
   {
    "duration": 4,
    "start_time": "2024-10-24T11:10:50.784Z"
   },
   {
    "duration": 169,
    "start_time": "2024-10-24T11:10:53.259Z"
   },
   {
    "duration": 15,
    "start_time": "2024-10-24T11:11:01.411Z"
   },
   {
    "duration": 6,
    "start_time": "2024-10-24T11:11:04.907Z"
   },
   {
    "duration": 15,
    "start_time": "2024-10-24T11:11:08.983Z"
   },
   {
    "duration": 10,
    "start_time": "2024-10-24T11:11:14.458Z"
   },
   {
    "duration": 10,
    "start_time": "2024-10-24T11:11:19.818Z"
   },
   {
    "duration": 102,
    "start_time": "2024-10-24T11:11:24.309Z"
   },
   {
    "duration": 3,
    "start_time": "2024-10-24T11:11:52.519Z"
   },
   {
    "duration": 46541,
    "start_time": "2024-10-24T11:11:56.802Z"
   },
   {
    "duration": 92,
    "start_time": "2024-10-24T11:13:51.387Z"
   },
   {
    "duration": 4,
    "start_time": "2024-10-24T11:14:47.939Z"
   },
   {
    "duration": 390,
    "start_time": "2024-10-24T11:15:05.977Z"
   },
   {
    "duration": 8,
    "start_time": "2024-10-24T11:16:15.928Z"
   },
   {
    "duration": 9,
    "start_time": "2024-10-24T11:16:24.918Z"
   },
   {
    "duration": 4,
    "start_time": "2024-10-24T11:19:18.575Z"
   },
   {
    "duration": 20,
    "start_time": "2024-10-24T11:19:21.529Z"
   },
   {
    "duration": 4,
    "start_time": "2024-10-24T11:19:24.606Z"
   },
   {
    "duration": 177,
    "start_time": "2024-10-24T11:19:30.016Z"
   },
   {
    "duration": 14,
    "start_time": "2024-10-24T11:19:33.881Z"
   },
   {
    "duration": 5,
    "start_time": "2024-10-24T11:19:37.660Z"
   },
   {
    "duration": 15,
    "start_time": "2024-10-24T11:19:40.750Z"
   },
   {
    "duration": 11,
    "start_time": "2024-10-24T11:19:45.221Z"
   },
   {
    "duration": 11,
    "start_time": "2024-10-24T11:19:52.025Z"
   },
   {
    "duration": 96,
    "start_time": "2024-10-24T11:19:52.973Z"
   },
   {
    "duration": 5,
    "start_time": "2024-10-24T11:21:30.367Z"
   },
   {
    "duration": 42,
    "start_time": "2024-10-24T11:21:30.374Z"
   },
   {
    "duration": 3,
    "start_time": "2024-10-24T11:21:30.418Z"
   },
   {
    "duration": 193,
    "start_time": "2024-10-24T11:21:30.422Z"
   },
   {
    "duration": 13,
    "start_time": "2024-10-24T11:21:30.617Z"
   },
   {
    "duration": 5,
    "start_time": "2024-10-24T11:21:30.632Z"
   },
   {
    "duration": 12,
    "start_time": "2024-10-24T11:21:30.639Z"
   },
   {
    "duration": 9,
    "start_time": "2024-10-24T11:21:30.653Z"
   },
   {
    "duration": 127,
    "start_time": "2024-10-24T11:21:30.664Z"
   },
   {
    "duration": 47519,
    "start_time": "2024-10-24T11:21:30.795Z"
   },
   {
    "duration": 104,
    "start_time": "2024-10-24T11:22:18.316Z"
   },
   {
    "duration": 400,
    "start_time": "2024-10-24T11:22:18.422Z"
   },
   {
    "duration": 9,
    "start_time": "2024-10-24T11:22:18.824Z"
   },
   {
    "duration": 21,
    "start_time": "2024-10-24T11:22:18.835Z"
   },
   {
    "duration": 11,
    "start_time": "2024-10-24T11:24:03.819Z"
   },
   {
    "duration": 4,
    "start_time": "2024-10-24T11:26:19.702Z"
   },
   {
    "duration": 3,
    "start_time": "2024-10-24T11:26:48.069Z"
   },
   {
    "duration": 108,
    "start_time": "2024-10-24T11:27:17.275Z"
   },
   {
    "duration": 10,
    "start_time": "2024-10-24T11:30:21.845Z"
   },
   {
    "duration": 98,
    "start_time": "2024-10-24T11:30:55.135Z"
   },
   {
    "duration": 59,
    "start_time": "2024-10-24T11:32:50.567Z"
   },
   {
    "duration": 2016,
    "start_time": "2024-10-24T11:34:43.557Z"
   },
   {
    "duration": 5,
    "start_time": "2024-10-24T11:35:01.569Z"
   },
   {
    "duration": 285,
    "start_time": "2024-10-24T11:35:39.486Z"
   },
   {
    "duration": 4,
    "start_time": "2024-10-24T11:37:17.074Z"
   },
   {
    "duration": 788,
    "start_time": "2024-10-24T11:37:35.315Z"
   },
   {
    "duration": 7,
    "start_time": "2024-10-24T12:11:05.322Z"
   },
   {
    "duration": 155,
    "start_time": "2024-10-24T12:11:08.484Z"
   },
   {
    "duration": 1944,
    "start_time": "2024-10-24T12:11:17.772Z"
   },
   {
    "duration": 2680,
    "start_time": "2024-10-24T12:11:19.718Z"
   },
   {
    "duration": 32,
    "start_time": "2024-10-24T12:11:22.400Z"
   },
   {
    "duration": 2,
    "start_time": "2024-10-24T12:11:22.435Z"
   },
   {
    "duration": 185,
    "start_time": "2024-10-24T12:11:22.439Z"
   },
   {
    "duration": 14,
    "start_time": "2024-10-24T12:11:22.631Z"
   },
   {
    "duration": 5,
    "start_time": "2024-10-24T12:11:22.646Z"
   },
   {
    "duration": 16,
    "start_time": "2024-10-24T12:11:22.653Z"
   },
   {
    "duration": 10,
    "start_time": "2024-10-24T12:11:22.670Z"
   },
   {
    "duration": 127,
    "start_time": "2024-10-24T12:11:22.683Z"
   },
   {
    "duration": 98,
    "start_time": "2024-10-24T12:11:22.812Z"
   },
   {
    "duration": 0,
    "start_time": "2024-10-24T12:11:22.912Z"
   },
   {
    "duration": 0,
    "start_time": "2024-10-24T12:11:22.913Z"
   },
   {
    "duration": 0,
    "start_time": "2024-10-24T12:11:22.915Z"
   },
   {
    "duration": 0,
    "start_time": "2024-10-24T12:11:22.916Z"
   },
   {
    "duration": 0,
    "start_time": "2024-10-24T12:11:22.917Z"
   },
   {
    "duration": 12,
    "start_time": "2024-10-24T12:14:02.082Z"
   },
   {
    "duration": 16,
    "start_time": "2024-10-24T12:14:10.711Z"
   },
   {
    "duration": 46120,
    "start_time": "2024-10-24T12:15:16.784Z"
   },
   {
    "duration": 83,
    "start_time": "2024-10-24T12:17:12.486Z"
   },
   {
    "duration": 251,
    "start_time": "2024-10-24T12:17:18.868Z"
   },
   {
    "duration": 18,
    "start_time": "2024-10-24T12:17:30.350Z"
   },
   {
    "duration": 13,
    "start_time": "2024-10-24T12:18:26.229Z"
   },
   {
    "duration": 816,
    "start_time": "2024-10-24T12:20:04.599Z"
   },
   {
    "duration": 804,
    "start_time": "2024-10-24T12:23:09.639Z"
   },
   {
    "duration": 164,
    "start_time": "2024-10-24T12:23:33.624Z"
   },
   {
    "duration": 167,
    "start_time": "2024-10-24T12:24:05.979Z"
   },
   {
    "duration": 813,
    "start_time": "2024-10-24T12:24:37.174Z"
   },
   {
    "duration": 3,
    "start_time": "2024-10-24T12:26:01.147Z"
   }
  ],
  "kernelspec": {
   "display_name": "entorno",
   "language": "python",
   "name": "python3"
  },
  "language_info": {
   "codemirror_mode": {
    "name": "ipython",
    "version": 3
   },
   "file_extension": ".py",
   "mimetype": "text/x-python",
   "name": "python",
   "nbconvert_exporter": "python",
   "pygments_lexer": "ipython3",
   "version": "3.12.4"
  },
  "toc": {
   "base_numbering": 1,
   "nav_menu": {},
   "number_sections": true,
   "sideBar": true,
   "skip_h1_title": true,
   "title_cell": "Table of Contents",
   "title_sidebar": "Contents",
   "toc_cell": false,
   "toc_position": {},
   "toc_section_display": true,
   "toc_window_display": false
  }
 },
 "nbformat": 4,
 "nbformat_minor": 2
}
